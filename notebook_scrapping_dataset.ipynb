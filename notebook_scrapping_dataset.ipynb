{
  "nbformat": 4,
  "nbformat_minor": 0,
  "metadata": {
    "colab": {
      "provenance": []
    },
    "kernelspec": {
      "name": "python3",
      "display_name": "Python 3"
    },
    "language_info": {
      "name": "python"
    }
  },
  "cells": [
    {
      "cell_type": "code",
      "execution_count": 1,
      "metadata": {
        "colab": {
          "base_uri": "https://localhost:8080/"
        },
        "id": "4W7h3A1qL0II",
        "outputId": "6861238d-e521-480c-8cf3-23c9ef495257"
      },
      "outputs": [
        {
          "output_type": "stream",
          "name": "stdout",
          "text": [
            "Requirement already satisfied: google-play-scraper in /usr/local/lib/python3.11/dist-packages (1.2.7)\n"
          ]
        }
      ],
      "source": [
        "pip install google-play-scraper"
      ]
    },
    {
      "cell_type": "code",
      "source": [
        "from google_play_scraper import Sort, reviews\n",
        "import pandas as pd"
      ],
      "metadata": {
        "id": "jEdnpTlGNko5"
      },
      "execution_count": 2,
      "outputs": []
    },
    {
      "cell_type": "code",
      "source": [
        "# Set app_id Gojek\n",
        "app_id = 'com.gojek.partner'"
      ],
      "metadata": {
        "id": "4YS19DnQNmfX"
      },
      "execution_count": 3,
      "outputs": []
    },
    {
      "cell_type": "code",
      "source": [
        "# Fungsi untuk mengambil ulasan dari aplikasi Gojek dengan pengurutan berdasarkan rating terbaru\n",
        "def get_reviews(app_id, lang='id', country='ID', sort_by=Sort.RATING, count=100):\n",
        "    result, continuation_token = reviews(\n",
        "        app_id,\n",
        "        lang=lang,         # Bahasa Indonesia\n",
        "        country=country,   # Negara Indonesia\n",
        "        sort=sort_by,      # Pilih pengurutan berdasarkan rating\n",
        "        count=count        # Tentukan jumlah ulasan yang ingin diambil\n",
        "    )\n",
        "    return result"
      ],
      "metadata": {
        "id": "mzkGnwM6NpNB"
      },
      "execution_count": 4,
      "outputs": []
    },
    {
      "cell_type": "code",
      "source": [
        "# Ambil ulasan pertama kali\n",
        "reviews_data = get_reviews(app_id, count=10000)\n",
        "\n",
        "# Jika jumlah data kurang dari 10000, ambil data lagi dengan token\n",
        "while len(reviews_data) < 10000:\n",
        "    print(f\"Data kurang dari 10000, mengambil lebih banyak ulasan...\")\n",
        "    more_reviews = get_reviews(app_id, count=100)\n",
        "    reviews_data.extend(more_reviews)"
      ],
      "metadata": {
        "id": "MPqHZMI3Ns8f"
      },
      "execution_count": 5,
      "outputs": []
    },
    {
      "cell_type": "code",
      "source": [
        "# Konversi hasil ke DataFrame\n",
        "df = pd.DataFrame(reviews_data)\n",
        "\n",
        "# Pilih kolom-kolom yang relevan\n",
        "required_columns = ['reviewId', 'userName', 'content', 'score', 'thumbsUpCount']\n",
        "df_filtered = df[required_columns]"
      ],
      "metadata": {
        "id": "Ehf2wszfMbRB"
      },
      "execution_count": 6,
      "outputs": []
    },
    {
      "cell_type": "code",
      "source": [
        "# Memastikan dataset memiliki minimal 10.000 data\n",
        "if len(df_filtered) < 10000:\n",
        "    print(f\"Data yang tersedia hanya {len(df_filtered)}. Anda mungkin perlu menambah data untuk mencapai 3.000 data.\")\n",
        "else:\n",
        "    # Menyimpan hasilnya ke file CSV baru\n",
        "    df_filtered.to_csv('gojek_driver_reviews.csv', index=False)\n",
        "    print(\"Dataset telah berhasil difilter dan disimpan ke 'gojek_driver_reviews.csv'.\")"
      ],
      "metadata": {
        "colab": {
          "base_uri": "https://localhost:8080/"
        },
        "id": "I0mK2g9FNz9H",
        "outputId": "118ecc12-5323-42e4-f299-776bd832bfc3"
      },
      "execution_count": 7,
      "outputs": [
        {
          "output_type": "stream",
          "name": "stdout",
          "text": [
            "Dataset telah berhasil difilter dan disimpan ke 'gojek_driver_reviews.csv'.\n"
          ]
        }
      ]
    }
  ]
}